{
 "cells": [
  {
   "cell_type": "code",
   "execution_count": 46,
   "id": "3c044876",
   "metadata": {},
   "outputs": [],
   "source": [
    "import ray\n",
    "import numpy as np\n",
    "from ray.tune.sklearn import TuneGridSearchCV\n",
    "from sklearn.ensemble import RandomForestRegressor\n",
    "from sklearn.model_selection import train_test_split\n",
    "import pandas as pd\n",
    "import pickle\n",
    "from xgboost import XGBRegressor\n",
    "from sklearn.linear_model import LinearRegression"
   ]
  },
  {
   "cell_type": "code",
   "execution_count": 50,
   "id": "5a3f21b1",
   "metadata": {},
   "outputs": [],
   "source": [
    "ray.init(address=\"192.168.2.93:6379\")\n",
    "\n",
    "\n",
    "git_data = pd.read_csv('./githubrepos_nourls.csv')\n",
    "\n",
    "#Include year only\n",
    "git_data['created_at'] = pd.to_numeric([x.split('-')[0] for x in git_data['created_at']])\n",
    "\n",
    "git_data['has_downloads'] = git_data['has_downloads'].astype(int)\n",
    "git_data['has_issues'] = git_data['has_issues'].astype(int)\n",
    "git_data['has_wiki'] = git_data['has_wiki'].astype(int)\n",
    "\n",
    "# created_at, forks, has_downloads, has_issues, has_wiki, open_issues_count, size, watchers_count\n",
    "X = git_data[['created_at', 'forks', 'has_downloads', 'has_issues', 'has_wiki', 'open_issues_count', 'size', 'subscribers_count']]\n",
    "y = git_data['stargazers_count']\n",
    "\n",
    "X_train, X_test, y_train, y_test = train_test_split(X, y, train_size=0.2)\n",
    "\n"
   ]
  },
  {
   "cell_type": "code",
   "execution_count": 39,
   "id": "1b564325",
   "metadata": {},
   "outputs": [
    {
     "data": {
      "text/plain": [
       "TuneGridSearchCV(estimator=RandomForestRegressor(),\n",
       "                 loggers=[<class 'ray.tune.logger.JsonLogger'>,\n",
       "                          <class 'ray.tune.logger.CSVLogger'>],\n",
       "                 n_jobs=-1,\n",
       "                 param_grid={'bootstrap': [True, False],\n",
       "                             'max_depth': [20, 50, 100],\n",
       "                             'max_features': ['auto', 'sqrt'],\n",
       "                             'min_samples_leaf': [1, 2, 4],\n",
       "                             'min_samples_split': [2, 5, 10],\n",
       "                             'n_estimators': [100, 200, 400]},\n",
       "                 scoring={'score': <function _passthrough_scorer at 0x7f5aa08d55e0>},\n",
       "                 sk_n_jobs=1)"
      ]
     },
     "execution_count": 39,
     "metadata": {},
     "output_type": "execute_result"
    }
   ],
   "source": [
    "#%%time\n",
    "\n",
    "param_grid = {'bootstrap': [True, False],\n",
    "              'max_depth': [20, 50, 100],\n",
    "              'max_features': ['auto', 'sqrt'],\n",
    "              'min_samples_leaf': [1, 2, 4],\n",
    "              'min_samples_split': [2, 5, 10],\n",
    "              'n_estimators': [100, 200, 400]}\n",
    "\n",
    "rf_model = TuneGridSearchCV(RandomForestRegressor(), param_grid)\n",
    "rf_model.fit(X_train, y_train)\n"
   ]
  },
  {
   "cell_type": "code",
   "execution_count": 40,
   "id": "ecbf8394",
   "metadata": {},
   "outputs": [
    {
     "name": "stdout",
     "output_type": "stream",
     "text": [
      "R squared for Random Forest: 0.7472875762243423\n"
     ]
    }
   ],
   "source": [
    "yhat = rf_model.predict(X_test)\n",
    "SS_Residual = sum((y_test-yhat)**2)       \n",
    "SS_Total = sum((y-np.mean(y))**2)     \n",
    "r_squared = 1 - (float(SS_Residual))/SS_Total\n",
    "\n",
    "print(\"R squared for Random Forest: \"+ str(r_squared))\n",
    "\n",
    "#pickle.dump(rf_model, open(\"star_predict/best_model.sav\", 'wb'))"
   ]
  },
  {
   "cell_type": "code",
   "execution_count": 43,
   "id": "9512c2ef",
   "metadata": {},
   "outputs": [
    {
     "data": {
      "text/plain": [
       "TuneGridSearchCV(estimator=XGBRegressor(base_score=None, booster=None,\n",
       "                                        colsample_bylevel=None,\n",
       "                                        colsample_bynode=None,\n",
       "                                        colsample_bytree=None, gamma=None,\n",
       "                                        gpu_id=None, importance_type='gain',\n",
       "                                        interaction_constraints=None,\n",
       "                                        learning_rate=None, max_delta_step=None,\n",
       "                                        max_depth=None, min_child_weight=None,\n",
       "                                        missing=nan, monotone_constraints=None,\n",
       "                                        n_estimators=100, n_jobs=N...\n",
       "                                        validate_parameters=None,\n",
       "                                        verbosity=None),\n",
       "                 loggers=[<class 'ray.tune.logger.JsonLogger'>,\n",
       "                          <class 'ray.tune.logger.CSVLogger'>],\n",
       "                 n_jobs=-1,\n",
       "                 param_grid={'colsample_bytree': [0.6, 0.8, 1.0],\n",
       "                             'gamma': [0.5, 1, 1.5, 2, 5],\n",
       "                             'max_depth': [3, 4, 5],\n",
       "                             'min_child_weight': [1, 5, 10],\n",
       "                             'subsample': [0.6, 0.8, 1.0]},\n",
       "                 scoring={'score': <function _passthrough_scorer at 0x7f5aa08d55e0>},\n",
       "                 sk_n_jobs=1)"
      ]
     },
     "execution_count": 43,
     "metadata": {},
     "output_type": "execute_result"
    }
   ],
   "source": [
    "from sklearn.model_selection import GridSearchCV\n",
    "\n",
    "param_grid = {\n",
    "        'min_child_weight': [1, 5, 10],\n",
    "        'gamma': [0.5, 1, 1.5, 2, 5],\n",
    "        'subsample': [0.6, 0.8, 1.0],\n",
    "        'colsample_bytree': [0.6, 0.8, 1.0],\n",
    "        'max_depth': [3, 4, 5]\n",
    "        }\n",
    "\n",
    "#xgb_model = TuneGridSearchCV(xgb, param_grid)\n",
    "xgb_model = TuneGridSearchCV(XGBRegressor(), param_grid, cv=5)\n",
    "xgb_model.fit(X_train, y_train)\n",
    "\n"
   ]
  },
  {
   "cell_type": "code",
   "execution_count": 44,
   "id": "ec83fed6",
   "metadata": {},
   "outputs": [
    {
     "name": "stdout",
     "output_type": "stream",
     "text": [
      "R squared for XGBoost: 0.6437996171162035\n"
     ]
    }
   ],
   "source": [
    "yhat = xgb_model.predict(X_test)\n",
    "SS_Residual = sum((y_test-yhat)**2)       \n",
    "SS_Total = sum((y-np.mean(y))**2)     \n",
    "r_squared = 1 - (float(SS_Residual))/SS_Total\n",
    "\n",
    "print(\"R squared for XGBoost: \"+ str(r_squared))\n",
    "\n",
    "#pickle.dump(xgb_model, open(\"star_predict/xgb_model.sav\", 'wb'))"
   ]
  },
  {
   "cell_type": "code",
   "execution_count": 48,
   "id": "7e5aa3a3",
   "metadata": {},
   "outputs": [
    {
     "data": {
      "text/plain": [
       "LinearRegression()"
      ]
     },
     "execution_count": 48,
     "metadata": {},
     "output_type": "execute_result"
    }
   ],
   "source": [
    "lr_model = LinearRegression()\n",
    "lr_model.fit(X_train, y_train)"
   ]
  },
  {
   "cell_type": "code",
   "execution_count": 49,
   "id": "c00bd159",
   "metadata": {},
   "outputs": [
    {
     "name": "stdout",
     "output_type": "stream",
     "text": [
      "R squared for XGBoost: 0.712703829720769\n"
     ]
    }
   ],
   "source": [
    "yhat = lr_model.predict(X_test)\n",
    "SS_Residual = sum((y_test-yhat)**2)       \n",
    "SS_Total = sum((y-np.mean(y))**2)     \n",
    "r_squared = 1 - (float(SS_Residual))/SS_Total\n",
    "\n",
    "print(\"R squared for XGBoost: \"+ str(r_squared))\n",
    "\n",
    "#pickle.dump(xgb_model, open(\"star_predict/lr_model.sav\", 'wb'))"
   ]
  },
  {
   "cell_type": "code",
   "execution_count": 37,
   "id": "5172a572",
   "metadata": {},
   "outputs": [],
   "source": [
    "ray.shutdown()"
   ]
  },
  {
   "cell_type": "code",
   "execution_count": null,
   "id": "9fccfda0",
   "metadata": {},
   "outputs": [],
   "source": []
  }
 ],
 "metadata": {
  "kernelspec": {
   "display_name": "Python 3",
   "language": "python",
   "name": "python3"
  },
  "language_info": {
   "codemirror_mode": {
    "name": "ipython",
    "version": 3
   },
   "file_extension": ".py",
   "mimetype": "text/x-python",
   "name": "python",
   "nbconvert_exporter": "python",
   "pygments_lexer": "ipython3",
   "version": "3.8.5"
  }
 },
 "nbformat": 4,
 "nbformat_minor": 5
}
